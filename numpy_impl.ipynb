{
 "cells": [
  {
   "cell_type": "code",
   "execution_count": 1,
   "metadata": {},
   "outputs": [],
   "source": [
    "import numpy as np\n",
    "import csv\n",
    "import random\n",
    "import matplotlib.pyplot as plt"
   ]
  },
  {
   "cell_type": "code",
   "execution_count": 3,
   "metadata": {},
   "outputs": [],
   "source": [
    "filename = 'auto-mpg.csv'\n",
    "data = []\n",
    "with open(filename) as csvfile:\n",
    "    csvreader = csv.reader(csvfile)\n",
    "    for row in csvreader:\n",
    "        data.append(row)"
   ]
  },
  {
   "cell_type": "code",
   "execution_count": 4,
   "metadata": {},
   "outputs": [],
   "source": [
    "## b)\n",
    "\n",
    "#randomly shuffle the data\n",
    "random.shuffle(data)\n",
    "\n",
    "#Calculate the 80% mark for the dataset\n",
    "cutoff_num = int(len(data) * 0.8)\n",
    "\n",
    "#grab the first 80% of the randomized data\n",
    "train_set = data[:cutoff_num]\n",
    "\n",
    "#grab the ending 20% of the randomized data\n",
    "test_set = data[-(len(data)-cutoff_num):]"
   ]
  },
  {
   "cell_type": "code",
   "execution_count": 5,
   "metadata": {},
   "outputs": [],
   "source": [
    "def init_data(data):\n",
    "    X = []\n",
    "    Y = []\n",
    "    for row in data:\n",
    "        #row[3] = hourspower, row[4] = weight\n",
    "        if row[3] != '?' and row[4] != '?':\n",
    "            X.append(int(row[3]))\n",
    "            Y.append(int(row[4]))\n",
    "\n",
    "    X = np.array(X)\n",
    "    Y = np.array(Y)\n",
    "    \n",
    "    return X,Y"
   ]
  },
  {
   "cell_type": "code",
   "execution_count": 6,
   "metadata": {},
   "outputs": [],
   "source": [
    "## c)\n",
    "\n",
    "#X and Y are the two given data arrays\n",
    "def norm_function(X, Y):\n",
    "    ## normal equation: B = (H^T H)^(-1) H^T z\n",
    "\n",
    "    #initialize matrix H and z\n",
    "    H = []\n",
    "    z = []\n",
    "    \n",
    "    #builds matrix H and z from given data arrays X and Y\n",
    "    for i in range(len(X)):\n",
    "        H.append(np.array([1, X[i]]))\n",
    "        z.append(Y[i])\n",
    "\n",
    "    #turn lists into numpy arrays\n",
    "    H = np.array(H)\n",
    "    z = np.array(z)\n",
    "\n",
    "    # normal function calculations:\n",
    "    \n",
    "    # calculates H^T dot H\n",
    "    hTh = np.transpose(H).dot(H)\n",
    "    # calculates H^T dot z\n",
    "    hTz = H.T.dot(z)\n",
    "    # calculates the rest of the equation: B = (H^T H)^(-1) H^T z\n",
    "    b = np.linalg.solve(hTh, hTz)\n",
    "    \n",
    "    #return the calculated weights b0 and b1\n",
    "    return b"
   ]
  },
  {
   "cell_type": "code",
   "execution_count": 7,
   "metadata": {},
   "outputs": [
    {
     "name": "stdout",
     "output_type": "stream",
     "text": [
      "[984.50032677  19.07816155]\n"
     ]
    }
   ],
   "source": [
    "#Set up data using the variables hoursepower (row[3]) and weight (row[4])\n",
    "X,Y = init_data(data)\n",
    "\n",
    "#calculates weights through normal function\n",
    "B = norm_function(X, Y)\n",
    "print(B)"
   ]
  },
  {
   "cell_type": "code",
   "execution_count": 8,
   "metadata": {},
   "outputs": [
    {
     "data": {
      "image/png": "[encoded data removed]",
      "text/plain": [
       "<matplotlib.figure.Figure at 0xe238b10>"
      ]
     },
     "metadata": {},
     "output_type": "display_data"
    }
   ],
   "source": [
    "# Plotting Values and Regression Line\n",
    "max_x = np.max(X) + 100\n",
    "min_x = np.min(X) - 100\n",
    "\n",
    "# Calculating line values x and y\n",
    "x = np.linspace(min_x, max_x, 1000)\n",
    "y = B[0] + B[1] * x\n",
    "\n",
    "# Ploting Line\n",
    "plt.plot(x, y, color='#58b970', label='Regression Line')\n",
    "# Ploting Scatter Points\n",
    "plt.scatter(X, Y, c='#ef5423', label='Scatter Plot')\n",
    "\n",
    "plt.xlabel('HoursePower')\n",
    "plt.ylabel('Weight')\n",
    "plt.title('Car Weight vs Car HoursePower and Linear Regression Line')\n",
    "plt.legend()\n",
    "plt.show()"
   ]
  },
  {
   "cell_type": "markdown",
   "metadata": {},
   "source": [
    "d)\n",
    "\n",
    "The equeation for the linear model using the variables weight and hoursepower:\n",
    "\n",
    "$$ weight = B_{0} + B_{1}*hoursepower $$"
   ]
  },
  {
   "cell_type": "code",
   "execution_count": 9,
   "metadata": {},
   "outputs": [],
   "source": [
    "## e)\n",
    "\n",
    "def train_model(train_data):\n",
    "    \n",
    "    train_hp, train_weight = init_data(train_data)\n",
    "    \n",
    "    return norm_function(train_hp, train_weight)\n",
    "\n",
    "def test_model(test_data, B):\n",
    "\n",
    "    test_hp, test_weight = init_data(test_data)\n",
    "\n",
    "    error = []\n",
    "    for i in range(len(test_hp)):\n",
    "        #calculate estimated weight from model\n",
    "        estimate_weight = B[0] + ( B[1] * test_hp[i] )\n",
    "        \n",
    "        actual_weight = test_weight[i]\n",
    "        \n",
    "        dif = actual_weight - estimate_weight\n",
    "        error.append(dif)\n",
    "    \n",
    "    error = np.array(error)\n",
    "    \n",
    "    return error.T.dot(error)"
   ]
  },
  {
   "cell_type": "code",
   "execution_count": 10,
   "metadata": {},
   "outputs": [
    {
     "name": "stdout",
     "output_type": "stream",
     "text": [
      "11234725.14097036\n"
     ]
    }
   ],
   "source": [
    "#train the 'train_set' set\n",
    "trained_weights = train_model(train_set)\n",
    "\n",
    "#test the trained_weights on 'test_set'\n",
    "tot_error = test_model(test_set, trained_weights)\n",
    "\n",
    "print(tot_error)"
   ]
  }
 ],
 "metadata": {
  "kernelspec": {
   "display_name": "Python 3",
   "language": "python",
   "name": "python3"
  },
  "language_info": {
   "codemirror_mode": {
    "name": "ipython",
    "version": 3
   },
   "file_extension": ".py",
   "mimetype": "text/x-python",
   "name": "python",
   "nbconvert_exporter": "python",
   "pygments_lexer": "ipython3",
   "version": "3.6.2"
  }
 },
 "nbformat": 4,
 "nbformat_minor": 2
}
