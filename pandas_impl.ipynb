{
 "cells": [
  {
   "cell_type": "code",
   "execution_count": 1,
   "metadata": {},
   "outputs": [],
   "source": [
    "import numpy as np\n",
    "import csv\n",
    "import random\n",
    "import pandas as pd\n",
    "import matplotlib.pyplot as plt"
   ]
  },
  {
   "cell_type": "code",
   "execution_count": 2,
   "metadata": {},
   "outputs": [],
   "source": [
    "filename = 'auto-mpg.csv'\n",
    "txtfile = 'auto-mpg.txt'"
   ]
  },
  {
   "cell_type": "code",
   "execution_count": 3,
   "metadata": {},
   "outputs": [],
   "source": [
    "col_names = ['mpg', 'cylinders', 'displacement', 'hoursepower', 'weight', 'acceleration', 'model_year', 'origin', 'car_name']"
   ]
  },
  {
   "cell_type": "code",
   "execution_count": 4,
   "metadata": {},
   "outputs": [],
   "source": [
    "pandas_data = pd.read_csv(txtfile, header=None, delim_whitespace=True, names=col_names, na_values=['?'])\n",
    "\n",
    "hp_mean = pandas_data.hoursepower.mean()\n",
    "weight_mean = pandas_data.weight.mean()\n",
    "\n",
    "#replace the missing values in hp and weight with the mean of those columns\n",
    "values = {'hoursepower': hp_mean, 'weight': weight_mean}\n",
    "pandas_data = pandas_data.fillna(value=values)"
   ]
  },
  {
   "cell_type": "code",
   "execution_count": 5,
   "metadata": {},
   "outputs": [],
   "source": [
    "#random array between 0 and 1 with same size as the dataset.\n",
    "#sets true if value is less than 0.8, creating an approximate 80% 20% split.\n",
    "msk = np.random.rand(len(pandas_data)) < 0.8\n",
    "#creates the train set\n",
    "train = pandas_data[msk]\n",
    "#creates the test set\n",
    "test = pandas_data[~msk]"
   ]
  },
  {
   "cell_type": "code",
   "execution_count": 7,
   "metadata": {},
   "outputs": [],
   "source": [
    "#X and Y are the two given data arrays\n",
    "def norm_function(X, Y):\n",
    "    ## normal equation: B = (H^T H)^(-1) H^T z\n",
    "\n",
    "    #initialize matrix H and z\n",
    "    H = []\n",
    "    z = []\n",
    "    \n",
    "    #builds matrix H and z from given data arrays X and Y\n",
    "    for i in range(len(X)):\n",
    "        H.append(np.array([1, X[i]]))\n",
    "        z.append(Y[i])\n",
    "\n",
    "    #turn lists into numpy arrays\n",
    "    H = np.array(H)\n",
    "    z = np.array(z)\n",
    "\n",
    "    # normal function calculations:\n",
    "    \n",
    "    # calculates H^T dot H\n",
    "    hTh = np.transpose(H).dot(H)\n",
    "    # calculates H^T dot z\n",
    "    hTz = H.T.dot(z)\n",
    "    # calculates the rest of the equation: B = (H^T H)^(-1) H^T z\n",
    "    b = np.linalg.solve(hTh, hTz)\n",
    "    \n",
    "    #return the calculated weights b0 and b1\n",
    "    return b"
   ]
  },
  {
   "cell_type": "code",
   "execution_count": 8,
   "metadata": {},
   "outputs": [
    {
     "name": "stdout",
     "output_type": "stream",
     "text": [
      "[994.31468006  18.97227421]\n"
     ]
    }
   ],
   "source": [
    "# find linear regression weights based on the data columns\n",
    "weights = norm_function(np.array(train.hoursepower.values), np.array(train.weight.values))\n",
    "print(weights)"
   ]
  },
  {
   "cell_type": "code",
   "execution_count": null,
   "metadata": {},
   "outputs": [],
   "source": []
  }
 ],
 "metadata": {
  "kernelspec": {
   "display_name": "Python 3",
   "language": "python",
   "name": "python3"
  },
  "language_info": {
   "codemirror_mode": {
    "name": "ipython",
    "version": 3
   },
   "file_extension": ".py",
   "mimetype": "text/x-python",
   "name": "python",
   "nbconvert_exporter": "python",
   "pygments_lexer": "ipython3",
   "version": "3.6.2"
  }
 },
 "nbformat": 4,
 "nbformat_minor": 2
}
